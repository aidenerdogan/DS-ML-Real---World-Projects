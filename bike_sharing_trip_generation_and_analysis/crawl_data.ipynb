{
 "cells": [
  {
   "cell_type": "code",
   "execution_count": 3,
   "metadata": {},
   "outputs": [],
   "source": [
    "import os\n",
    "import requests\n",
    "import time\n",
    "import pandas as pd\n",
    "import json"
   ]
  },
  {
   "cell_type": "code",
   "execution_count": 4,
   "metadata": {},
   "outputs": [],
   "source": [
    "# Set the number of iterations\n",
    "num_iterations = 60\n",
    "\n",
    "# URL for API request\n",
    "api_url = 'https://api.nextbike.net/maps/nextbike-live.json?city=362'\n",
    "\n",
    "# Function to make API request and save response to a file\n",
    "def fetch_and_save_data():\n",
    "    # Make the API request\n",
    "    response = requests.get(api_url).json()\n",
    "\n",
    "    # Get the current timestamp for the filename\n",
    "    timestr = time.strftime(\"%Y%m%d-%H%M%S\")\n",
    "\n",
    "    # Create the 'json' directory if it doesn't exist\n",
    "    os.makedirs('json', exist_ok=True)\n",
    "\n",
    "    # Create the filename based on the timestamp\n",
    "    filename = f'datasets/json/response_{timestr}.json'\n",
    "\n",
    "    # Save the response to the JSON file\n",
    "    with open(filename, 'w') as outfile:\n",
    "        json.dump(response, outfile)\n",
    "\n",
    "# Iterate for the specified number of times\n",
    "for n in range(num_iterations):\n",
    "    # Call the function to fetch and save data\n",
    "    fetch_and_save_data()\n",
    "\n",
    "    # Wait for 5 minutes before the next iteration\n",
    "    time.sleep(300)\n"
   ]
  },
  {
   "cell_type": "code",
   "execution_count": null,
   "metadata": {},
   "outputs": [],
   "source": [
    "data will be wrangled/cleansing"
   ]
  }
 ],
 "metadata": {
  "kernelspec": {
   "display_name": "Python 3",
   "language": "python",
   "name": "python3"
  },
  "language_info": {
   "codemirror_mode": {
    "name": "ipython",
    "version": 3
   },
   "file_extension": ".py",
   "mimetype": "text/x-python",
   "name": "python",
   "nbconvert_exporter": "python",
   "pygments_lexer": "ipython3",
   "version": "3.12.0"
  }
 },
 "nbformat": 4,
 "nbformat_minor": 2
}
