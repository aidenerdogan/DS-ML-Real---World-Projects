{
 "cells": [
  {
   "cell_type": "code",
   "execution_count": null,
   "metadata": {},
   "outputs": [],
   "source": []
  },
  {
   "cell_type": "code",
   "execution_count": 1,
   "metadata": {},
   "outputs": [],
   "source": [
    "from weatherbit.api import Api\n",
    "import pandas as pd"
   ]
  },
  {
   "cell_type": "code",
   "execution_count": 2,
   "metadata": {},
   "outputs": [
    {
     "data": {
      "text/plain": [
       "\"\\n# To get a daily forecast of temperature, and precipitation:\\npd.DataFrame(forecast.get_series(['temp']))\""
      ]
     },
     "execution_count": 2,
     "metadata": {},
     "output_type": "execute_result"
    }
   ],
   "source": [
    "api_key = \"get an api key\"\n",
    "lat = 52.510008\n",
    "lon = 13.404954\n",
    "\n",
    "api = Api(api_key)\n",
    "\n",
    "# Query by lat/lon\n",
    "# forecast = api.get_forecast(lat=lat, lon=lon)\n",
    "\n",
    "# Query by location info\n",
    "#forecast = api.get_forecast(city=\"Berlin\", state=\"Berlin\", country=\"DE\")\n",
    "\"\"\"\n",
    "# To get a daily forecast of temperature, and precipitation:\n",
    "pd.DataFrame(forecast.get_series(['temp']))\"\"\""
   ]
  },
  {
   "cell_type": "code",
   "execution_count": 3,
   "metadata": {},
   "outputs": [
    {
     "data": {
      "text/plain": [
       "array([['2019-03-11T00:00:00.000000000', '2019-03-12T00:00:00.000000000'],\n",
       "       ['2019-03-12T00:00:00.000000000', '2019-03-13T00:00:00.000000000'],\n",
       "       ['2019-03-13T00:00:00.000000000', '2019-03-14T00:00:00.000000000'],\n",
       "       ['2019-03-14T00:00:00.000000000', '2019-03-15T00:00:00.000000000'],\n",
       "       ['2019-03-15T00:00:00.000000000', '2019-03-16T00:00:00.000000000'],\n",
       "       ['2019-03-16T00:00:00.000000000', '2019-03-17T00:00:00.000000000'],\n",
       "       ['2019-03-17T00:00:00.000000000', '2019-03-18T00:00:00.000000000'],\n",
       "       ['2019-03-18T00:00:00.000000000', '2019-03-19T00:00:00.000000000'],\n",
       "       ['2019-03-19T00:00:00.000000000', '2019-03-20T00:00:00.000000000'],\n",
       "       ['2019-03-20T00:00:00.000000000', '2019-03-21T00:00:00.000000000'],\n",
       "       ['2019-03-21T00:00:00.000000000', '2019-03-22T00:00:00.000000000'],\n",
       "       ['2019-03-22T00:00:00.000000000', '2019-03-23T00:00:00.000000000'],\n",
       "       ['2019-03-23T00:00:00.000000000', '2019-03-24T00:00:00.000000000'],\n",
       "       ['2019-03-24T00:00:00.000000000', '2019-03-25T00:00:00.000000000'],\n",
       "       ['2019-03-25T00:00:00.000000000', '2019-03-26T00:00:00.000000000'],\n",
       "       ['2019-03-26T00:00:00.000000000', '2019-03-27T00:00:00.000000000'],\n",
       "       ['2019-03-27T00:00:00.000000000', '2019-03-28T00:00:00.000000000'],\n",
       "       ['2019-03-28T00:00:00.000000000',                           'NaT']],\n",
       "      dtype='datetime64[ns]')"
      ]
     },
     "execution_count": 3,
     "metadata": {},
     "output_type": "execute_result"
    }
   ],
   "source": [
    "from datetime import datetime\n",
    "from datetime import timedelta\n",
    "\n",
    "dates = pd.date_range(start='20190311', end='20190328', freq='D')\n",
    "df_dates =pd.DataFrame(dates, columns=['start'])\n",
    "df_dates['end'] = df_dates.shift(-1)\n",
    "dates = df_dates.values\n",
    "dates"
   ]
  },
  {
   "cell_type": "markdown",
   "metadata": {},
   "source": [
    "### Hourly"
   ]
  },
  {
   "cell_type": "code",
   "execution_count": 4,
   "metadata": {},
   "outputs": [
    {
     "data": {
      "text/plain": [
       "[<weatherbit.models.History at 0x117c3f5c0>,\n",
       " <weatherbit.models.History at 0x117c5e000>,\n",
       " <weatherbit.models.History at 0x117ca8a70>,\n",
       " <weatherbit.models.History at 0x117cab4d0>,\n",
       " <weatherbit.models.History at 0x117cbdfa0>,\n",
       " <weatherbit.models.History at 0x117cc4a40>,\n",
       " <weatherbit.models.History at 0x117cc7560>,\n",
       " <weatherbit.models.History at 0x117cde090>,\n",
       " <weatherbit.models.History at 0x117cf0bf0>,\n",
       " <weatherbit.models.History at 0x117cf36e0>,\n",
       " <weatherbit.models.History at 0x117cfe270>,\n",
       " <weatherbit.models.History at 0x117d14e00>,\n",
       " <weatherbit.models.History at 0x117d178f0>,\n",
       " <weatherbit.models.History at 0x117d22450>,\n",
       " <weatherbit.models.History at 0x117d3cfb0>,\n",
       " <weatherbit.models.History at 0x117d3fb00>,\n",
       " <weatherbit.models.History at 0x122b0e660>]"
      ]
     },
     "execution_count": 4,
     "metadata": {},
     "output_type": "execute_result"
    }
   ],
   "source": [
    "hist_temp = []\n",
    "for st,en in dates[:-1]:\n",
    "    start = (st.astype(str)[0:10])\n",
    "    end = (en.astype(str)[0:10])\n",
    "    api.set_granularity('hourly')\n",
    "    data = api.get_history(lat=lat, lon=lon, \n",
    "                          start_date=start, end_date=end)\n",
    "    hist_temp.append(data)\n",
    "\n",
    "hist_temp"
   ]
  },
  {
   "cell_type": "code",
   "execution_count": 5,
   "metadata": {},
   "outputs": [],
   "source": [
    "temp_lst = []\n",
    "liquid_precip_lst = []\n",
    "humidity_lst = []\n",
    "wind_spd_lst = []\n",
    "for h in hist_temp:\n",
    "    liquid_precip = h.get_series(['precip'])\n",
    "    temp = h.get_series(['temp'])\n",
    "    humidity  = h.get_series(['rh'])\n",
    "    wind_spd = h.get_series(['wind_spd'])\n",
    "    temp_lst += temp\n",
    "    liquid_precip_lst += liquid_precip\n",
    "    humidity_lst += humidity\n",
    "    wind_spd_lst += wind_spd"
   ]
  },
  {
   "cell_type": "code",
   "execution_count": 18,
   "metadata": {},
   "outputs": [
    {
     "data": {
      "text/plain": [
       "'Mitte'"
      ]
     },
     "execution_count": 18,
     "metadata": {},
     "output_type": "execute_result"
    }
   ],
   "source": [
    "data.city_name"
   ]
  },
  {
   "cell_type": "code",
   "execution_count": 22,
   "metadata": {},
   "outputs": [],
   "source": [
    "pd_t = pd.DataFrame(temp_lst)\n",
    "pd_l = pd.DataFrame(liquid_precip_lst)\n",
    "pd_h = pd.DataFrame(humidity_lst)\n",
    "pd_w = pd.DataFrame(wind_spd_lst)"
   ]
  },
  {
   "cell_type": "code",
   "execution_count": 23,
   "metadata": {},
   "outputs": [],
   "source": [
    "df = pd_t[[\"datetime\", \"temp\"]].merge(pd_l[[\"precip\", \"datetime\"]], on='datetime')\n",
    "df = df.merge(pd_h[[\"rh\", \"datetime\"]], on='datetime')\n",
    "df = df.merge(pd_w[[\"wind_spd\", \"datetime\"]], on='datetime')"
   ]
  },
  {
   "cell_type": "code",
   "execution_count": 24,
   "metadata": {},
   "outputs": [
    {
     "data": {
      "text/html": [
       "<div>\n",
       "<style scoped>\n",
       "    .dataframe tbody tr th:only-of-type {\n",
       "        vertical-align: middle;\n",
       "    }\n",
       "\n",
       "    .dataframe tbody tr th {\n",
       "        vertical-align: top;\n",
       "    }\n",
       "\n",
       "    .dataframe thead th {\n",
       "        text-align: right;\n",
       "    }\n",
       "</style>\n",
       "<table border=\"1\" class=\"dataframe\">\n",
       "  <thead>\n",
       "    <tr style=\"text-align: right;\">\n",
       "      <th></th>\n",
       "      <th>datetime</th>\n",
       "      <th>temp</th>\n",
       "      <th>precip</th>\n",
       "      <th>rh</th>\n",
       "      <th>wind_spd</th>\n",
       "    </tr>\n",
       "  </thead>\n",
       "  <tbody>\n",
       "    <tr>\n",
       "      <th>0</th>\n",
       "      <td>2019-03-11 00:00:00</td>\n",
       "      <td>2.5</td>\n",
       "      <td>0.0</td>\n",
       "      <td>89</td>\n",
       "      <td>7.94</td>\n",
       "    </tr>\n",
       "    <tr>\n",
       "      <th>1</th>\n",
       "      <td>2019-03-11 01:00:00</td>\n",
       "      <td>2.0</td>\n",
       "      <td>0.0</td>\n",
       "      <td>93</td>\n",
       "      <td>7.70</td>\n",
       "    </tr>\n",
       "    <tr>\n",
       "      <th>2</th>\n",
       "      <td>2019-03-11 02:00:00</td>\n",
       "      <td>2.0</td>\n",
       "      <td>0.0</td>\n",
       "      <td>89</td>\n",
       "      <td>8.00</td>\n",
       "    </tr>\n",
       "    <tr>\n",
       "      <th>3</th>\n",
       "      <td>2019-03-11 03:00:00</td>\n",
       "      <td>2.0</td>\n",
       "      <td>0.0</td>\n",
       "      <td>86</td>\n",
       "      <td>7.44</td>\n",
       "    </tr>\n",
       "    <tr>\n",
       "      <th>4</th>\n",
       "      <td>2019-03-11 04:00:00</td>\n",
       "      <td>2.0</td>\n",
       "      <td>0.5</td>\n",
       "      <td>93</td>\n",
       "      <td>5.95</td>\n",
       "    </tr>\n",
       "    <tr>\n",
       "      <th>...</th>\n",
       "      <td>...</td>\n",
       "      <td>...</td>\n",
       "      <td>...</td>\n",
       "      <td>...</td>\n",
       "      <td>...</td>\n",
       "    </tr>\n",
       "    <tr>\n",
       "      <th>403</th>\n",
       "      <td>2019-03-27 19:00:00</td>\n",
       "      <td>9.0</td>\n",
       "      <td>0.0</td>\n",
       "      <td>81</td>\n",
       "      <td>5.09</td>\n",
       "    </tr>\n",
       "    <tr>\n",
       "      <th>404</th>\n",
       "      <td>2019-03-27 20:00:00</td>\n",
       "      <td>9.0</td>\n",
       "      <td>0.0</td>\n",
       "      <td>84</td>\n",
       "      <td>5.40</td>\n",
       "    </tr>\n",
       "    <tr>\n",
       "      <th>405</th>\n",
       "      <td>2019-03-27 21:00:00</td>\n",
       "      <td>8.0</td>\n",
       "      <td>0.0</td>\n",
       "      <td>93</td>\n",
       "      <td>4.59</td>\n",
       "    </tr>\n",
       "    <tr>\n",
       "      <th>406</th>\n",
       "      <td>2019-03-27 22:00:00</td>\n",
       "      <td>8.0</td>\n",
       "      <td>0.0</td>\n",
       "      <td>93</td>\n",
       "      <td>4.59</td>\n",
       "    </tr>\n",
       "    <tr>\n",
       "      <th>407</th>\n",
       "      <td>2019-03-27 23:00:00</td>\n",
       "      <td>8.0</td>\n",
       "      <td>0.0</td>\n",
       "      <td>93</td>\n",
       "      <td>4.09</td>\n",
       "    </tr>\n",
       "  </tbody>\n",
       "</table>\n",
       "<p>408 rows × 5 columns</p>\n",
       "</div>"
      ],
      "text/plain": [
       "               datetime  temp  precip  rh  wind_spd\n",
       "0   2019-03-11 00:00:00   2.5     0.0  89      7.94\n",
       "1   2019-03-11 01:00:00   2.0     0.0  93      7.70\n",
       "2   2019-03-11 02:00:00   2.0     0.0  89      8.00\n",
       "3   2019-03-11 03:00:00   2.0     0.0  86      7.44\n",
       "4   2019-03-11 04:00:00   2.0     0.5  93      5.95\n",
       "..                  ...   ...     ...  ..       ...\n",
       "403 2019-03-27 19:00:00   9.0     0.0  81      5.09\n",
       "404 2019-03-27 20:00:00   9.0     0.0  84      5.40\n",
       "405 2019-03-27 21:00:00   8.0     0.0  93      4.59\n",
       "406 2019-03-27 22:00:00   8.0     0.0  93      4.59\n",
       "407 2019-03-27 23:00:00   8.0     0.0  93      4.09\n",
       "\n",
       "[408 rows x 5 columns]"
      ]
     },
     "execution_count": 24,
     "metadata": {},
     "output_type": "execute_result"
    }
   ],
   "source": [
    "df"
   ]
  },
  {
   "cell_type": "code",
   "execution_count": 25,
   "metadata": {},
   "outputs": [],
   "source": [
    "df.to_csv('berlin_hourly_weather.csv')"
   ]
  },
  {
   "cell_type": "markdown",
   "metadata": {},
   "source": [
    "### Daily"
   ]
  },
  {
   "cell_type": "code",
   "execution_count": 26,
   "metadata": {},
   "outputs": [],
   "source": [
    "hist_temp_d = []\n",
    "for st,en in dates[:-1]:\n",
    "    start = (st.astype(str)[0:10])\n",
    "    end = (en.astype(str)[0:10])\n",
    "    api.set_granularity('daily')\n",
    "    data = api.get_history(lat=lat, lon=lon, \n",
    "                          start_date=start, end_date=end)\n",
    "    hist_temp_d.append(data)"
   ]
  },
  {
   "cell_type": "code",
   "execution_count": 27,
   "metadata": {},
   "outputs": [],
   "source": [
    "temp_lst = []\n",
    "liquid_precip_lst = []\n",
    "humidity_lst = []\n",
    "wind_spd_lst = []\n",
    "for h in hist_temp_d:\n",
    "    liquid_precip = h.get_series(['precip'])\n",
    "    temp = h.get_series(['temp'])\n",
    "    humidity  = h.get_series(['rh'])\n",
    "    wind_spd = h.get_series(['wind_spd'])\n",
    "    temp_lst += temp\n",
    "    liquid_precip_lst += liquid_precip\n",
    "    humidity_lst += humidity\n",
    "    wind_spd_lst += wind_spd"
   ]
  },
  {
   "cell_type": "code",
   "execution_count": 28,
   "metadata": {},
   "outputs": [],
   "source": [
    "pd_t = pd.DataFrame(temp_lst)\n",
    "pd_l = pd.DataFrame(liquid_precip_lst)\n",
    "pd_h = pd.DataFrame(humidity_lst)\n",
    "pd_w = pd.DataFrame(wind_spd_lst)"
   ]
  },
  {
   "cell_type": "code",
   "execution_count": 30,
   "metadata": {},
   "outputs": [],
   "source": [
    "df = pd_t[[\"datetime\", \"temp\"]].merge(pd_l[[\"precip\", \"datetime\"]], on='datetime')\n",
    "df = df.merge(pd_h[[\"rh\", \"datetime\"]], on='datetime')\n",
    "df = df.merge(pd_w[[\"wind_spd\", \"datetime\"]], on='datetime')"
   ]
  },
  {
   "cell_type": "code",
   "execution_count": 31,
   "metadata": {},
   "outputs": [
    {
     "data": {
      "text/html": [
       "<div>\n",
       "<style scoped>\n",
       "    .dataframe tbody tr th:only-of-type {\n",
       "        vertical-align: middle;\n",
       "    }\n",
       "\n",
       "    .dataframe tbody tr th {\n",
       "        vertical-align: top;\n",
       "    }\n",
       "\n",
       "    .dataframe thead th {\n",
       "        text-align: right;\n",
       "    }\n",
       "</style>\n",
       "<table border=\"1\" class=\"dataframe\">\n",
       "  <thead>\n",
       "    <tr style=\"text-align: right;\">\n",
       "      <th></th>\n",
       "      <th>datetime</th>\n",
       "      <th>temp</th>\n",
       "      <th>precip</th>\n",
       "      <th>rh</th>\n",
       "      <th>wind_spd</th>\n",
       "    </tr>\n",
       "  </thead>\n",
       "  <tbody>\n",
       "    <tr>\n",
       "      <th>0</th>\n",
       "      <td>2019-03-11</td>\n",
       "      <td>3.1</td>\n",
       "      <td>1.0</td>\n",
       "      <td>84.8</td>\n",
       "      <td>6.3</td>\n",
       "    </tr>\n",
       "    <tr>\n",
       "      <th>1</th>\n",
       "      <td>2019-03-12</td>\n",
       "      <td>5.6</td>\n",
       "      <td>0.0</td>\n",
       "      <td>69.3</td>\n",
       "      <td>5.4</td>\n",
       "    </tr>\n",
       "    <tr>\n",
       "      <th>2</th>\n",
       "      <td>2019-03-13</td>\n",
       "      <td>7.6</td>\n",
       "      <td>1.0</td>\n",
       "      <td>60.0</td>\n",
       "      <td>8.7</td>\n",
       "    </tr>\n",
       "    <tr>\n",
       "      <th>3</th>\n",
       "      <td>2019-03-14</td>\n",
       "      <td>5.8</td>\n",
       "      <td>7.0</td>\n",
       "      <td>83.7</td>\n",
       "      <td>7.0</td>\n",
       "    </tr>\n",
       "    <tr>\n",
       "      <th>4</th>\n",
       "      <td>2019-03-15</td>\n",
       "      <td>7.6</td>\n",
       "      <td>3.5</td>\n",
       "      <td>75.1</td>\n",
       "      <td>8.6</td>\n",
       "    </tr>\n",
       "    <tr>\n",
       "      <th>5</th>\n",
       "      <td>2019-03-16</td>\n",
       "      <td>7.0</td>\n",
       "      <td>4.0</td>\n",
       "      <td>75.5</td>\n",
       "      <td>6.5</td>\n",
       "    </tr>\n",
       "    <tr>\n",
       "      <th>6</th>\n",
       "      <td>2019-03-17</td>\n",
       "      <td>8.6</td>\n",
       "      <td>2.0</td>\n",
       "      <td>72.6</td>\n",
       "      <td>6.8</td>\n",
       "    </tr>\n",
       "    <tr>\n",
       "      <th>7</th>\n",
       "      <td>2019-03-18</td>\n",
       "      <td>5.3</td>\n",
       "      <td>0.5</td>\n",
       "      <td>73.5</td>\n",
       "      <td>7.8</td>\n",
       "    </tr>\n",
       "    <tr>\n",
       "      <th>8</th>\n",
       "      <td>2019-03-19</td>\n",
       "      <td>4.9</td>\n",
       "      <td>0.0</td>\n",
       "      <td>68.5</td>\n",
       "      <td>4.3</td>\n",
       "    </tr>\n",
       "    <tr>\n",
       "      <th>9</th>\n",
       "      <td>2019-03-20</td>\n",
       "      <td>6.9</td>\n",
       "      <td>0.0</td>\n",
       "      <td>67.1</td>\n",
       "      <td>3.7</td>\n",
       "    </tr>\n",
       "    <tr>\n",
       "      <th>10</th>\n",
       "      <td>2019-03-21</td>\n",
       "      <td>9.7</td>\n",
       "      <td>0.0</td>\n",
       "      <td>79.8</td>\n",
       "      <td>3.2</td>\n",
       "    </tr>\n",
       "    <tr>\n",
       "      <th>11</th>\n",
       "      <td>2019-03-22</td>\n",
       "      <td>8.8</td>\n",
       "      <td>0.0</td>\n",
       "      <td>86.7</td>\n",
       "      <td>2.0</td>\n",
       "    </tr>\n",
       "    <tr>\n",
       "      <th>12</th>\n",
       "      <td>2019-03-23</td>\n",
       "      <td>9.8</td>\n",
       "      <td>0.0</td>\n",
       "      <td>79.8</td>\n",
       "      <td>2.9</td>\n",
       "    </tr>\n",
       "    <tr>\n",
       "      <th>13</th>\n",
       "      <td>2019-03-24</td>\n",
       "      <td>6.7</td>\n",
       "      <td>0.0</td>\n",
       "      <td>66.9</td>\n",
       "      <td>1.8</td>\n",
       "    </tr>\n",
       "    <tr>\n",
       "      <th>14</th>\n",
       "      <td>2019-03-25</td>\n",
       "      <td>4.8</td>\n",
       "      <td>3.0</td>\n",
       "      <td>75.3</td>\n",
       "      <td>4.1</td>\n",
       "    </tr>\n",
       "    <tr>\n",
       "      <th>15</th>\n",
       "      <td>2019-03-26</td>\n",
       "      <td>4.8</td>\n",
       "      <td>0.0</td>\n",
       "      <td>78.4</td>\n",
       "      <td>4.8</td>\n",
       "    </tr>\n",
       "    <tr>\n",
       "      <th>16</th>\n",
       "      <td>2019-03-27</td>\n",
       "      <td>7.3</td>\n",
       "      <td>0.0</td>\n",
       "      <td>83.7</td>\n",
       "      <td>4.1</td>\n",
       "    </tr>\n",
       "  </tbody>\n",
       "</table>\n",
       "</div>"
      ],
      "text/plain": [
       "     datetime  temp  precip    rh  wind_spd\n",
       "0  2019-03-11   3.1     1.0  84.8       6.3\n",
       "1  2019-03-12   5.6     0.0  69.3       5.4\n",
       "2  2019-03-13   7.6     1.0  60.0       8.7\n",
       "3  2019-03-14   5.8     7.0  83.7       7.0\n",
       "4  2019-03-15   7.6     3.5  75.1       8.6\n",
       "5  2019-03-16   7.0     4.0  75.5       6.5\n",
       "6  2019-03-17   8.6     2.0  72.6       6.8\n",
       "7  2019-03-18   5.3     0.5  73.5       7.8\n",
       "8  2019-03-19   4.9     0.0  68.5       4.3\n",
       "9  2019-03-20   6.9     0.0  67.1       3.7\n",
       "10 2019-03-21   9.7     0.0  79.8       3.2\n",
       "11 2019-03-22   8.8     0.0  86.7       2.0\n",
       "12 2019-03-23   9.8     0.0  79.8       2.9\n",
       "13 2019-03-24   6.7     0.0  66.9       1.8\n",
       "14 2019-03-25   4.8     3.0  75.3       4.1\n",
       "15 2019-03-26   4.8     0.0  78.4       4.8\n",
       "16 2019-03-27   7.3     0.0  83.7       4.1"
      ]
     },
     "execution_count": 31,
     "metadata": {},
     "output_type": "execute_result"
    }
   ],
   "source": [
    "df"
   ]
  },
  {
   "cell_type": "code",
   "execution_count": 33,
   "metadata": {},
   "outputs": [],
   "source": [
    "df.to_csv('berlin_daily_weather.csv')"
   ]
  },
  {
   "cell_type": "code",
   "execution_count": null,
   "metadata": {},
   "outputs": [],
   "source": []
  }
 ],
 "metadata": {
  "kernelspec": {
   "display_name": "Python 3",
   "language": "python",
   "name": "python3"
  },
  "language_info": {
   "codemirror_mode": {
    "name": "ipython",
    "version": 3
   },
   "file_extension": ".py",
   "mimetype": "text/x-python",
   "name": "python",
   "nbconvert_exporter": "python",
   "pygments_lexer": "ipython3",
   "version": "3.12.0"
  }
 },
 "nbformat": 4,
 "nbformat_minor": 2
}
