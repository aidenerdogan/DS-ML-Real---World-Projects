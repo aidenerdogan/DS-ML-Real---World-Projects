{
 "cells": [
  {
   "cell_type": "code",
   "execution_count": 3,
   "metadata": {},
   "outputs": [
    {
     "name": "stdout",
     "output_type": "stream",
     "text": [
      "9 6\n"
     ]
    }
   ],
   "source": [
    "a = 'Tom Marvolo Riddle'\n",
    "b = 'I Am Lord Voldemort'\n",
    "\n",
    "def makeAnagram(a, b):\n",
    "    c1 = 0\n",
    "    c2 = 0 # count of characters to be deleted to make these two strings anagrams\n",
    "    seen = set()\n",
    "    seen2 = set() # set of previously checked characters\n",
    "    for character in b:\n",
    "        if character not in seen:\n",
    "            seen.add(character)\n",
    "            c1 += abs(b.count(character) - a.count(character))\n",
    "    for character in a:\n",
    "        if character not in seen:\n",
    "            seen2.add(character)\n",
    "            c2 += abs(a.count(character) - b.count(character))\n",
    "    print(c1, c2)\n",
    "makeAnagram(a,b)"
   ]
  },
  {
   "cell_type": "code",
   "execution_count": 42,
   "metadata": {},
   "outputs": [
    {
     "data": {
      "text/plain": [
       "Counter({'T': 1, 'M': 1, 'a': 1, 'v': 1, 'l': 1, 'R': 1, 'i': 1})"
      ]
     },
     "execution_count": 42,
     "metadata": {},
     "output_type": "execute_result"
    }
   ],
   "source": [
    "(Counter(a) - Counter(b))"
   ]
  },
  {
   "cell_type": "code",
   "execution_count": 43,
   "metadata": {},
   "outputs": [
    {
     "data": {
      "text/plain": [
       "{'T': 1, 'M': 1, 'a': 1, 'v': 1, 'R': 1, 'i': 1}"
      ]
     },
     "execution_count": 43,
     "metadata": {},
     "output_type": "execute_result"
    }
   ],
   "source": [
    "{k:v for k,v in myCounter(a).items() if k not in myCounter(b)}\n",
    "# {k:v for k,v in myCounter(a).items() if k not in myCounter(b) or v != myCounter(b)[k]}"
   ]
  },
  {
   "cell_type": "code",
   "execution_count": 11,
   "metadata": {},
   "outputs": [],
   "source": [
    "\n",
    "def myCounter(word):\n",
    "    counter = {}\n",
    "    for letter in word:\n",
    "        counter[letter] = counter.get(letter, 0) + 1\n",
    "    return counter"
   ]
  },
  {
   "cell_type": "code",
   "execution_count": 12,
   "metadata": {},
   "outputs": [
    {
     "ename": "TypeError",
     "evalue": "unsupported operand type(s) for -: 'dict' and 'dict'",
     "output_type": "error",
     "traceback": [
      "\u001b[1;31m---------------------------------------------------------------------------\u001b[0m",
      "\u001b[1;31mTypeError\u001b[0m                                 Traceback (most recent call last)",
      "\u001b[1;32m<ipython-input-12-47d7f8ce751a>\u001b[0m in \u001b[0;36m<module>\u001b[1;34m\u001b[0m\n\u001b[0;32m     11\u001b[0m \u001b[0mfirst_string\u001b[0m \u001b[1;33m=\u001b[0m \u001b[0minput\u001b[0m\u001b[1;33m(\u001b[0m\u001b[1;34m\"Provide the first string: \"\u001b[0m\u001b[1;33m)\u001b[0m\u001b[1;33m\u001b[0m\u001b[1;33m\u001b[0m\u001b[0m\n\u001b[0;32m     12\u001b[0m \u001b[0msecond_string\u001b[0m \u001b[1;33m=\u001b[0m \u001b[0minput\u001b[0m\u001b[1;33m(\u001b[0m\u001b[1;34m\"Provide the second string: \"\u001b[0m\u001b[1;33m)\u001b[0m\u001b[1;33m\u001b[0m\u001b[1;33m\u001b[0m\u001b[0m\n\u001b[1;32m---> 13\u001b[1;33m \u001b[0managram_checker\u001b[0m\u001b[1;33m(\u001b[0m\u001b[0mfirst_string\u001b[0m\u001b[1;33m,\u001b[0m \u001b[0msecond_string\u001b[0m\u001b[1;33m)\u001b[0m\u001b[1;33m\u001b[0m\u001b[1;33m\u001b[0m\u001b[0m\n\u001b[0m",
      "\u001b[1;32m<ipython-input-12-47d7f8ce751a>\u001b[0m in \u001b[0;36managram_checker\u001b[1;34m(a, b)\u001b[0m\n\u001b[0;32m      3\u001b[0m         \u001b[0mprint\u001b[0m\u001b[1;33m(\u001b[0m\u001b[1;34m\"They are anagrams\"\u001b[0m\u001b[1;33m)\u001b[0m\u001b[1;33m\u001b[0m\u001b[1;33m\u001b[0m\u001b[0m\n\u001b[0;32m      4\u001b[0m     \u001b[1;32melse\u001b[0m\u001b[1;33m:\u001b[0m\u001b[1;33m\u001b[0m\u001b[1;33m\u001b[0m\u001b[0m\n\u001b[1;32m----> 5\u001b[1;33m         print('remove ' + str(sum((myCounter(a) - myCounter(b)).values()))\n\u001b[0m\u001b[0;32m      6\u001b[0m         \u001b[1;33m+\u001b[0m \u001b[1;34m' characters from '\u001b[0m \u001b[1;33m+\u001b[0m \u001b[1;34mf'\"{a}\"'\u001b[0m \u001b[1;33m+\u001b[0m \u001b[1;34m' and '\u001b[0m \u001b[1;33m+\u001b[0m\u001b[1;33m\u001b[0m\u001b[1;33m\u001b[0m\u001b[0m\n\u001b[0;32m      7\u001b[0m         \u001b[0mstr\u001b[0m\u001b[1;33m(\u001b[0m\u001b[0msum\u001b[0m\u001b[1;33m(\u001b[0m\u001b[1;33m(\u001b[0m\u001b[0mmyCounter\u001b[0m\u001b[1;33m(\u001b[0m\u001b[0mb\u001b[0m\u001b[1;33m)\u001b[0m \u001b[1;33m-\u001b[0m \u001b[0mmyCounter\u001b[0m\u001b[1;33m(\u001b[0m\u001b[0ma\u001b[0m\u001b[1;33m)\u001b[0m\u001b[1;33m)\u001b[0m\u001b[1;33m.\u001b[0m\u001b[0mvalues\u001b[0m\u001b[1;33m(\u001b[0m\u001b[1;33m)\u001b[0m\u001b[1;33m)\u001b[0m\u001b[1;33m)\u001b[0m \u001b[1;33m+\u001b[0m\u001b[1;33m\u001b[0m\u001b[1;33m\u001b[0m\u001b[0m\n",
      "\u001b[1;31mTypeError\u001b[0m: unsupported operand type(s) for -: 'dict' and 'dict'"
     ]
    }
   ],
   "source": [
    "\n",
    "def anagram_checker(a, b):\n",
    "    if sorted(a) == sorted(b):\n",
    "        print(\"They are anagrams\")\n",
    "    else:\n",
    "        print('remove ' + str(sum((myCounter(a) - myCounter(b)).values()))\n",
    "        + ' characters from ' + f'\"{a}\"' + ' and ' + \n",
    "        str(sum((myCounter(b) - myCounter(a)).values())) + \n",
    "        ' characters from '+ f'\"{b}\"' )    \n",
    "\n",
    "\n",
    "first_string = input(\"Provide the first string: \")\n",
    "second_string = input(\"Provide the second string: \")\n",
    "anagram_checker(first_string, second_string)"
   ]
  },
  {
   "cell_type": "code",
   "execution_count": 6,
   "metadata": {},
   "outputs": [
    {
     "name": "stdout",
     "output_type": "stream",
     "text": [
      "remove 7 characters from \"Tom Marvolo Riddle\" and 8 characters from \"I Am Lord Voldemort\"\n"
     ]
    }
   ],
   "source": [
    "from collections import Counter\n",
    "\n",
    "def makeAnagram(a, b):\n",
    "    return print('remove ' + str(sum((Counter(a) - Counter(b)).values()))\n",
    "        + ' characters from ' + f'\"{a}\"' + ' and ' + \n",
    "        str(sum((Counter(b) - Counter(a)).values())) + \n",
    "        ' characters from '+ f'\"{b}\"' ) \n",
    "makeAnagram(a,b)   "
   ]
  },
  {
   "cell_type": "code",
   "execution_count": null,
   "metadata": {},
   "outputs": [],
   "source": []
  }
 ],
 "metadata": {
  "interpreter": {
   "hash": "7617f537e842ae3ccec390327d3ff014a558af039a3ca87a6eee29afe88745d4"
  },
  "kernelspec": {
   "display_name": "Python 3.8.8 ('base')",
   "language": "python",
   "name": "python3"
  },
  "language_info": {
   "codemirror_mode": {
    "name": "ipython",
    "version": 3
   },
   "file_extension": ".py",
   "mimetype": "text/x-python",
   "name": "python",
   "nbconvert_exporter": "python",
   "pygments_lexer": "ipython3",
   "version": "3.8.8"
  },
  "orig_nbformat": 4
 },
 "nbformat": 4,
 "nbformat_minor": 2
}
