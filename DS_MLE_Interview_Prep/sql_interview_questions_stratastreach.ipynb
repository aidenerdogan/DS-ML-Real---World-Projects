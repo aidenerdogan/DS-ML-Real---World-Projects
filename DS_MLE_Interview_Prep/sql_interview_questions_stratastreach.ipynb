{
 "cells": [
  {
   "cell_type": "code",
   "execution_count": null,
   "metadata": {},
   "outputs": [],
   "source": []
  },
  {
   "cell_type": "markdown",
   "metadata": {},
   "source": [
    "# [question](https://platform.stratascratch.com/coding/10353-workers-with-the-highest-salaries?code_type=3):Workers With The Highest Salaries\n",
    "can be solve with pandas or sql"
   ]
  },
  {
   "cell_type": "code",
   "execution_count": null,
   "metadata": {},
   "outputs": [],
   "source": [
    "With highest_salary AS\n",
    "(\n",
    "  SELECT\n",
    "  T.worker_title,W.salary , RANK() OVER(ORDER BY W.salary DESC) AS rnk\n",
    "  FROM worker W \n",
    "  JOIN title T\n",
    "  ON W.worker_id = T.worker_ref_id\n",
    " )\n",
    " SELECT \n",
    " worker_title AS best_paid_title\n",
    " FROM\n",
    " highest_salary\n",
    " WHERE rnk = 1\n",
    "\n",
    "\n",
    "\n",
    " or \n",
    "\n",
    "\n",
    "\n",
    " SELECT worker_title\n",
    "FROM (\n",
    "    SELECT t.worker_title, rank() OVER (ORDER BY w.salary DESC) as SalaryRank\n",
    "    FROM worker w\n",
    "    join title t\n",
    "    on w.worker_id = t.worker_ref_id\n",
    ") as highest_salaries\n",
    "WHERE SalaryRank = 1"
   ]
  },
  {
   "cell_type": "markdown",
   "metadata": {},
   "source": [
    "# [question](https://platform.stratascratch.com/coding/9894-employee-and-manager-salaries?code_type=3): Employee and Manager Salaries\n",
    "sql or opandas"
   ]
  },
  {
   "cell_type": "code",
   "execution_count": null,
   "metadata": {},
   "outputs": [],
   "source": [
    "select e.first_name, e.salary\n",
    "from employee e, employee m\n",
    "where e.manager_id = m.id\n",
    "and e.salary > m.salary\n",
    "\n",
    "#pandas\n",
    "\n",
    "# Import your libraries\n",
    "import pandas as pd\n",
    "\n",
    "# Start writing code\n",
    "df = employee.merge(employee, how ='inner', left_on='manager_id', right_on='id').reset_index()\n",
    "df[df['salary_x']>df['salary_y']][['first_name_x', 'salary_x']]\n"
   ]
  },
  {
   "cell_type": "markdown",
   "metadata": {},
   "source": [
    "# [question](https://platform.stratascratch.com/coding/10285-acceptance-rate-by-date?code_type=3): Acceptance Rate By Date"
   ]
  },
  {
   "cell_type": "code",
   "execution_count": null,
   "metadata": {},
   "outputs": [],
   "source": [
    "select s.date, \n",
    "count(r.user_id_receiver)/count(s.user_id_sender) as rate\n",
    "from \n",
    "(\n",
    "select *\n",
    "from fb_friend_requests\n",
    "where action = 'sent'\n",
    ") as s\n",
    "left join\n",
    "(\n",
    "select *\n",
    "from fb_friend_requests\n",
    "where action = 'accepted'\n",
    ") r\n",
    "on s.user_id_sender = r.user_id_sender \n",
    "and s.user_id_receiver = r.user_id_receiver\n",
    "group by s.date\n"
   ]
  },
  {
   "cell_type": "markdown",
   "metadata": {},
   "source": [
    "# [Question](https://platform.stratascratch.com/coding/9782-customer-revenue-in-march?code_type=3): Customer Revenue in March\n",
    "pandas or sql"
   ]
  },
  {
   "cell_type": "code",
   "execution_count": null,
   "metadata": {},
   "outputs": [],
   "source": [
    "select cust_id, sum(total_order_cost) as revenue from orders\n",
    "where order_date between '2019-03-01' and '2019-03-31'\n",
    "group by cust_id\n",
    "order by sum(total_order_cost) desc;\n",
    "\n",
    "\n",
    "#pandas version\n",
    "\n",
    "# Import your libraries\n",
    "import pandas as pd\n",
    "\n",
    "# Start writing code\n",
    "df = orders[orders['order_date'].between('2019-03-01', '2019-03-31')]\n",
    "df = df.groupby(['cust_id']).sum().sort_values(by='total_order_cost', ascending=False).reset_index()[['cust_id','total_order_cost']]\n",
    "\n",
    "#or \n",
    "\n",
    "df = df.groupby(['cust_id'])['total_order_cost'].sum().sort_values( ascending=False).reset_index()[['cust_id','total_order_cost']]\n",
    "\n",
    "\n",
    "\n",
    "df\n",
    "\n",
    "\n"
   ]
  },
  {
   "cell_type": "markdown",
   "metadata": {},
   "source": [
    "# [Question](https://platform.stratascratch.com/coding/10064-highest-energy-consumption?code_type=3): Total Energy by Meta"
   ]
  },
  {
   "cell_type": "code",
   "execution_count": null,
   "metadata": {},
   "outputs": [],
   "source": [
    "with total_comsumption as\n",
    "(\n",
    "select date, sum(consumption) as sum_consumption\n",
    "from (\n",
    "    select * from fb_eu_energy\n",
    "    union all\n",
    "    select * from fb_asia_energy\n",
    "    union all\n",
    "    select * from fb_na_energy\n",
    "    ) a\n",
    "    group by date\n",
    ")\n",
    "\n",
    "select date, sum_consumption\n",
    "from total_comsumption\n",
    "where sum_consumption = (select max(sum_consumption) from total_comsumption)\n",
    "order by date"
   ]
  },
  {
   "cell_type": "markdown",
   "metadata": {},
   "source": [
    "# [Question](https://platform.stratascratch.com/coding/10299-finding-updated-records?code_type=3): Latest Salaries from Microsoft"
   ]
  },
  {
   "cell_type": "code",
   "execution_count": null,
   "metadata": {},
   "outputs": [],
   "source": [
    "select first_name, max(salary) from ms_employee_salary\n",
    "group by id\n",
    "having max(salary) limit 5\n",
    "\n",
    "# SQL HAVING CLAUSE can be used along with the SQL MAX() to find the maximum value of a column over each group\n"
   ]
  },
  {
   "cell_type": "code",
   "execution_count": null,
   "metadata": {},
   "outputs": [],
   "source": []
  },
  {
   "cell_type": "code",
   "execution_count": null,
   "metadata": {},
   "outputs": [],
   "source": []
  },
  {
   "cell_type": "code",
   "execution_count": null,
   "metadata": {},
   "outputs": [],
   "source": []
  },
  {
   "cell_type": "code",
   "execution_count": null,
   "metadata": {},
   "outputs": [],
   "source": []
  },
  {
   "cell_type": "code",
   "execution_count": null,
   "metadata": {},
   "outputs": [],
   "source": []
  },
  {
   "cell_type": "code",
   "execution_count": null,
   "metadata": {},
   "outputs": [],
   "source": []
  }
 ],
 "metadata": {
  "kernelspec": {
   "display_name": "Python 3.10.6 64-bit",
   "language": "python",
   "name": "python3"
  },
  "language_info": {
   "name": "python",
   "version": "3.10.6"
  },
  "orig_nbformat": 4,
  "vscode": {
   "interpreter": {
    "hash": "aee8b7b246df8f9039afb4144a1f6fd8d2ca17a180786b69acc140d282b71a49"
   }
  }
 },
 "nbformat": 4,
 "nbformat_minor": 2
}
