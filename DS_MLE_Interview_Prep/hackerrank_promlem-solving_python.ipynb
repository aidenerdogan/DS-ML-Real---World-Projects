{
 "cells": [
  {
   "cell_type": "code",
   "execution_count": 1,
   "metadata": {},
   "outputs": [
    {
     "name": "stdout",
     "output_type": "stream",
     "text": [
      "10 14\n"
     ]
    }
   ],
   "source": [
    "# mini-max sum\n",
    "\n",
    "#!/bin/python3\n",
    "\n",
    "import math\n",
    "import os\n",
    "import random\n",
    "import re\n",
    "import sys\n",
    "\n",
    "#\n",
    "# Complete the 'miniMaxSum' function below.\n",
    "#\n",
    "# The function accepts INTEGER_ARRAY arr as parameter.\n",
    "#\n",
    "\n",
    "def miniMaxSum(arr):\n",
    "    # Write your code here\n",
    "    #sol1\n",
    "    #print(sum(sorted(arr)[:-1]), sum(sorted(arr[1:])))\n",
    "    \n",
    "    #sol2\n",
    "    mini = min(arr)\n",
    "    maxi = max(arr)\n",
    "\n",
    "    mini_sum = sum(arr) - maxi\n",
    "    maxi_sum= sum(arr)-mini\n",
    "\n",
    "    print(mini_sum, maxi_sum)\n",
    "\n",
    "    #my_sol\n",
    "    '''sums = []\n",
    "    for i in range(len(arr)):\n",
    "        print(i)\n",
    "        sums.append(sum(arr)-arr[i])\n",
    "        print(sums)\n",
    "    print(min(sums),max(sums))'''\n",
    "    #print(sum(arr[1:]))\n",
    "\n",
    "if __name__ == '__main__':\n",
    "\n",
    "    arr = [1,2,3,4,5]\n",
    "\n",
    "    miniMaxSum(arr)\n"
   ]
  },
  {
   "cell_type": "code",
   "execution_count": 11,
   "metadata": {},
   "outputs": [
    {
     "name": "stdout",
     "output_type": "stream",
     "text": [
      "2\n"
     ]
    }
   ],
   "source": [
    "#birthday cake candles\n",
    "\n",
    "#!/bin/python3\n",
    "\n",
    "import math\n",
    "import os\n",
    "import random\n",
    "import re\n",
    "import sys\n",
    "\n",
    "#\n",
    "# Complete the 'birthdayCakeCandles' function below.\n",
    "#\n",
    "# The function is expected to return an INTEGER.\n",
    "# The function accepts INTEGER_ARRAY candles as parameter.\n",
    "#\n",
    "\n",
    "def birthdayCakeCandles(candles):\n",
    "    # Write your code here\n",
    "    max_v = max(candles)\n",
    "    counter = 0\n",
    "    for val in candles:\n",
    "        if val == max_v:\n",
    "            counter += 1\n",
    "    return counter\n",
    "    \n",
    "\n",
    "if __name__ == '__main__':\n",
    "\n",
    "    candles_count = 4\n",
    "\n",
    "    candles = [3,2,1,3]\n",
    "\n",
    "    result = birthdayCakeCandles(candles)\n",
    "    print(result)\n"
   ]
  },
  {
   "cell_type": "code",
   "execution_count": 35,
   "metadata": {},
   "outputs": [
    {
     "name": "stdout",
     "output_type": "stream",
     "text": [
      "00:05:45\n"
     ]
    }
   ],
   "source": [
    "#TimeConversation\n",
    "\n",
    "#!/bin/python3\n",
    "\n",
    "import math\n",
    "import os\n",
    "import random\n",
    "import re\n",
    "import sys\n",
    "\n",
    "#\n",
    "# Complete the 'timeConversion' function below.\n",
    "#\n",
    "# The function is expected to return a STRING.\n",
    "# The function accepts STRING s as parameter.\n",
    "#\n",
    "\n",
    "def timeConversion(s):\n",
    "    # Write your code here\n",
    "    if s[:2] == '12':\n",
    "        if s[-2:] == 'PM':\n",
    "            return s[:-2]\n",
    "        elif s[-2:] == 'AM':\n",
    "            s = '00'+s[2:-2]\n",
    "            return s\n",
    "    else:\n",
    "        if s[-2:] == 'PM':\n",
    "            s = str(int(s[:2])+12)+s[2:-2]\n",
    "            return s\n",
    "        elif s[-2:] == 'AM':\n",
    "            return s[:-2]\n",
    "\n",
    "\n",
    "\n",
    "\n",
    "\n",
    "\n",
    "\n",
    "if __name__ == '__main__':\n",
    "\n",
    "    s = input()\n",
    "    result = timeConversion(s)\n",
    "    print(result)"
   ]
  },
  {
   "cell_type": "code",
   "execution_count": 52,
   "metadata": {},
   "outputs": [
    {
     "name": "stdout",
     "output_type": "stream",
     "text": [
      "75\n",
      "67\n",
      "40\n",
      "33\n"
     ]
    }
   ],
   "source": [
    "#Grading Students \n",
    "#\n",
    "# #!/bin/python3\n",
    "\n",
    "import math\n",
    "import os\n",
    "import random\n",
    "import re\n",
    "import sys\n",
    "\n",
    "#\n",
    "# Complete the 'gradingStudents' function below.\n",
    "#\n",
    "# The function is expected to return an INTEGER_ARRAY.\n",
    "# The function accepts INTEGER_ARRAY grades as parameter.\n",
    "#\n",
    "\n",
    "def gradingStudents(grades):\n",
    "    # Write your code here\n",
    "    for i in range(len(grades)):\n",
    "        nex_5 = grades[i] + (5 - grades[i]) % 5\n",
    "        if grades[i] >= 38 and nex_5 - grades[i] <= 2:\n",
    "            grades[i] = grades[i] + (5 - grades[i]) % 5\n",
    "    return grades\n",
    "\n",
    "if __name__ == '__main__':\n",
    "\n",
    "    grades = [73,67,38,33]\n",
    "\n",
    "    result = gradingStudents(grades)\n",
    "    for i in result:\n",
    "        print(i)\n"
   ]
  },
  {
   "cell_type": "code",
   "execution_count": 40,
   "metadata": {},
   "outputs": [
    {
     "data": {
      "text/plain": [
       "30"
      ]
     },
     "execution_count": 40,
     "metadata": {},
     "output_type": "execute_result"
    }
   ],
   "source": [
    "import math\n",
    "def round_to_next5(n):\n",
    "    return math.ceil(n/5.0) * 5\n",
    "round_to_next5(30)"
   ]
  },
  {
   "cell_type": "code",
   "execution_count": 5,
   "metadata": {},
   "outputs": [
    {
     "name": "stdout",
     "output_type": "stream",
     "text": [
      "[1, 1, 2, 3, 4, 4]\n"
     ]
    }
   ],
   "source": [
    "# Definition for singly-linked list.\n",
    "# class ListNode:\n",
    "#     def __init__(self, val=0, next=None):\n",
    "#         self.val = val\n",
    "#         self.next = next\n",
    "class Solution:\n",
    "    def mergeTwoLists(self, list1: [], list2: []) -> []:\n",
    "        l1 = list1\n",
    "        l2 = list2\n",
    "        for i in l1:\n",
    "            l2.append(i)\n",
    "        return sorted(l2)\n",
    "    \n",
    "    \n",
    "if __name__ == \"__main__\":\n",
    "    class_obj = Solution()\n",
    "    list1 = [1,2,4]\n",
    "    list2 = [1,3,4]\n",
    "    result = class_obj.mergeTwoLists(list1, list2)\n",
    "    print(result)"
   ]
  },
  {
   "cell_type": "code",
   "execution_count": 13,
   "metadata": {},
   "outputs": [
    {
     "name": "stdout",
     "output_type": "stream",
     "text": [
      "5\n"
     ]
    }
   ],
   "source": [
    "if __name__ == '__main__':\n",
    "\n",
    "\n",
    "    #n = int(input())\n",
    "    #arr = map(int, input().split())\n",
    "    #arr = list(arr)\n",
    "\n",
    "    n = 5\n",
    "    arr = [2, 3, 6, 6, 5]\n",
    "\n",
    "    arr.sort(reverse = True)\n",
    "\n",
    "    max_val = max(arr)\n",
    "    for i in arr:\n",
    "        if i == max_val:\n",
    "            pass\n",
    "        else:\n",
    "            print(i)\n",
    "            break"
   ]
  },
  {
   "cell_type": "markdown",
   "metadata": {},
   "source": [
    "# [Apple and Orange question](https://www.hackerrank.com/challenges/apple-and-orange/problem)"
   ]
  },
  {
   "cell_type": "code",
   "execution_count": null,
   "metadata": {},
   "outputs": [],
   "source": [
    "# my solution \n",
    "#!/bin/python3\n",
    "\n",
    "import math\n",
    "import os\n",
    "import random\n",
    "import re\n",
    "import sys\n",
    "\n",
    "#\n",
    "# Complete the 'countApplesAndOranges' function below.\n",
    "#\n",
    "# The function accepts following parameters:\n",
    "#  1. INTEGER s\n",
    "#  2. INTEGER t\n",
    "#  3. INTEGER a\n",
    "#  4. INTEGER b\n",
    "#  5. INTEGER_ARRAY apples\n",
    "#  6. INTEGER_ARRAY oranges\n",
    "#\n",
    "\n",
    "def countApplesAndOranges(s, t, a, b, apples, oranges):\n",
    "    # Write your code here\n",
    "    count_Apples = 0\n",
    "    count_Oranges= 0\n",
    "    for i in range(len(apples)):\n",
    "        if a+apples[i] >= s and a+apples[i] <= t:\n",
    "            count_Apples +=1\n",
    "    for i in range(len(oranges)):\n",
    "        if b+oranges[i] >= s and b+oranges[i] <=t:\n",
    "            count_Oranges +=1\n",
    "    print(count_Apples)\n",
    "    print(count_Oranges)\n",
    "        \n",
    "\n",
    "if __name__ == '__main__':\n",
    "    first_multiple_input = input().rstrip().split()\n",
    "\n",
    "    s = int(first_multiple_input[0])\n",
    "\n",
    "    t = int(first_multiple_input[1])\n",
    "\n",
    "    second_multiple_input = input().rstrip().split()\n",
    "\n",
    "    a = int(second_multiple_input[0])\n",
    "\n",
    "    b = int(second_multiple_input[1])\n",
    "\n",
    "    third_multiple_input = input().rstrip().split()\n",
    "\n",
    "    m = int(third_multiple_input[0])\n",
    "\n",
    "    n = int(third_multiple_input[1])\n",
    "\n",
    "    apples = list(map(int, input().rstrip().split()))\n",
    "\n",
    "    oranges = list(map(int, input().rstrip().split()))\n",
    "\n",
    "    countApplesAndOranges(s, t, a, b, apples, oranges)\n"
   ]
  },
  {
   "cell_type": "code",
   "execution_count": null,
   "metadata": {},
   "outputs": [],
   "source": []
  },
  {
   "cell_type": "markdown",
   "metadata": {},
   "source": [
    "# [Question: ](https://leetcode.com/problems/longest-substring-without-repeating-characters/) Longest Substring Without Repeating Characters\n",
    "\n",
    "## leetcode - python"
   ]
  },
  {
   "cell_type": "code",
   "execution_count": 95,
   "metadata": {},
   "outputs": [
    {
     "name": "stdout",
     "output_type": "stream",
     "text": [
      "The input string is abcabcbb\n",
      "The length of the longest non-repeating character substring is 3\n"
     ]
    }
   ],
   "source": [
    "# Here, we are planning to implement a simple sliding window methodology\n",
    "def lengthOfLongestSubstring( s: str) -> int:\n",
    "    seen = {}\n",
    "    maximum_length = 0\n",
    "\n",
    "    # starting the initial point of window to index 0\n",
    "    start = 0\n",
    "    \n",
    "    for end in range(len(s)):\n",
    "\n",
    "        # Checking if we have already seen the element or not\n",
    "        if s[end] in seen:\n",
    "\n",
    "            # If we have seen the number, move the start pointer\n",
    "            # to position after the last occurrence\n",
    "            start = max(start, seen[s[end]] + 1)\n",
    "            #print('seen: ', seen)\n",
    "\n",
    "        # Updating the last seen value of the character\n",
    "        seen[s[end]] = end\n",
    "        #print('seen-2: ', seen)\n",
    "        maximum_length = max(maximum_length, end-start + 1)\n",
    "        #print('maximum_length: ' ,maximum_length)\n",
    "    return maximum_length\n",
    "            \n",
    "# Driver Code\n",
    "string = \"abcabcbb\"\n",
    "print(\"The input string is\", string)\n",
    "length = lengthOfLongestSubstring(string)\n",
    "print(\"The length of the longest non-repeating character substring is\", length)\n"
   ]
  },
  {
   "cell_type": "markdown",
   "metadata": {},
   "source": [
    "# [Question: ](https://www.hackerrank.com/challenges/breaking-best-and-worst-records/problem)Breaking the Records"
   ]
  },
  {
   "cell_type": "code",
   "execution_count": null,
   "metadata": {},
   "outputs": [],
   "source": [
    "#!/bin/python3\n",
    "\n",
    "import math\n",
    "import os\n",
    "import random\n",
    "import re\n",
    "import sys\n",
    "\n",
    "#\n",
    "# Complete the 'breakingRecords' function below.\n",
    "#\n",
    "# The function is expected to return an INTEGER_ARRAY.\n",
    "# The function accepts INTEGER_ARRAY scores as parameter.\n",
    "#\n",
    "\n",
    "def breakingRecords(scores):\n",
    "    # Write your code here\n",
    "    counter_h = 0\n",
    "    counter_l = 0\n",
    "    max_score = scores[0]\n",
    "    min_score = scores[0]\n",
    "    for i in scores:\n",
    "        if i > max_score:\n",
    "            counter_h += 1\n",
    "            max_score = i\n",
    "        elif i < min_score:\n",
    "            counter_l += 1\n",
    "            min_score = i\n",
    "    return counter_h, counter_l\n",
    "        \n",
    "        \n",
    "\n",
    "if __name__ == '__main__':\n",
    "    fptr = open(os.environ['OUTPUT_PATH'], 'w')\n",
    "\n",
    "    n = int(input().strip())\n",
    "\n",
    "    scores = list(map(int, input().rstrip().split()))\n",
    "\n",
    "    result = breakingRecords(scores)\n",
    "\n",
    "    fptr.write(' '.join(map(str, result)))\n",
    "    fptr.write('\\n')\n",
    "\n",
    "    fptr.close()\n"
   ]
  },
  {
   "cell_type": "markdown",
   "metadata": {},
   "source": [
    "# general json operations"
   ]
  },
  {
   "cell_type": "code",
   "execution_count": 64,
   "metadata": {},
   "outputs": [
    {
     "name": "stdout",
     "output_type": "stream",
     "text": [
      "{'organization': 'freeCodeCamp', 'website': 'https://www.freecodecamp.org/', 'formed': 2014, 'founder': 'Quincy Larson', 'certifications': [{'name': 'Responsive Web Design', 'courses': ['HTML', 'CSS']}, {'name': 'JavaScript Algorithms and Data Structures', 'courses': ['JavaScript']}, {'name': 'Front End Development Libraries', 'courses': ['Bootstrap', 'jQuery', 'Sass', 'React', 'Redux']}, {'name': 'Data Visualization', 'courses': ['D3']}, {'name': 'Relational Database Course', 'courses': ['Linux', 'SQL', 'PostgreSQL', 'Bash Scripting', 'Git and GitHub', 'Nano']}, {'name': 'Back End Development and APIs', 'courses': ['MongoDB', 'Express', 'Node', 'NPM']}, {'name': 'Quality Assurance', 'courses': ['Testing with Chai', 'Express', 'Node']}, {'name': 'Scientific Computing with Python', 'courses': ['Python']}, {'name': 'Data Analysis with Python', 'courses': ['Numpy', 'Pandas', 'Matplotlib', 'Seaborn']}, {'name': 'Information Security', 'courses': ['HelmetJS']}, {'name': 'Machine Learning with Python', 'courses': ['Machine Learning', 'TensorFlow']}]}\n"
     ]
    }
   ],
   "source": [
    "import json\n",
    "\n",
    "\n",
    "with open(\"test.json\", \"r\") as js_file:\n",
    "    js_data = json.load(js_file)\n",
    "    js_file.close()\n",
    "    \n",
    "print(js_data)"
   ]
  },
  {
   "cell_type": "code",
   "execution_count": 65,
   "metadata": {},
   "outputs": [
    {
     "name": "stdout",
     "output_type": "stream",
     "text": [
      "organization\n",
      "freeCodeCamp\n",
      "website\n",
      "https://www.freecodecamp.org/\n",
      "formed\n",
      "2014\n",
      "founder\n",
      "Quincy Larson\n",
      "certifications\n",
      "[{'name': 'Responsive Web Design', 'courses': ['HTML', 'CSS']}, {'name': 'JavaScript Algorithms and Data Structures', 'courses': ['JavaScript']}, {'name': 'Front End Development Libraries', 'courses': ['Bootstrap', 'jQuery', 'Sass', 'React', 'Redux']}, {'name': 'Data Visualization', 'courses': ['D3']}, {'name': 'Relational Database Course', 'courses': ['Linux', 'SQL', 'PostgreSQL', 'Bash Scripting', 'Git and GitHub', 'Nano']}, {'name': 'Back End Development and APIs', 'courses': ['MongoDB', 'Express', 'Node', 'NPM']}, {'name': 'Quality Assurance', 'courses': ['Testing with Chai', 'Express', 'Node']}, {'name': 'Scientific Computing with Python', 'courses': ['Python']}, {'name': 'Data Analysis with Python', 'courses': ['Numpy', 'Pandas', 'Matplotlib', 'Seaborn']}, {'name': 'Information Security', 'courses': ['HelmetJS']}, {'name': 'Machine Learning with Python', 'courses': ['Machine Learning', 'TensorFlow']}]\n"
     ]
    }
   ],
   "source": [
    "for i,j in js_data.items():\n",
    "    print(i)\n",
    "    print(j)"
   ]
  },
  {
   "cell_type": "markdown",
   "metadata": {},
   "source": [
    "# [Question](https://leetcode.com/problems/reverse-integer/): Reverse Integer with int condition\n",
    "leetcode"
   ]
  },
  {
   "cell_type": "code",
   "execution_count": 86,
   "metadata": {},
   "outputs": [],
   "source": [
    "class Solution:\n",
    "    def reverse(self, x: int) -> int:\n",
    "        if x >= 0:\n",
    "            a = int(str(x)[::-1])\n",
    "        else:\n",
    "            a = int(str(x)[0] + str(x)[1:][::-1])\n",
    "        print(a)\n",
    "        if a < 2**31-1 and a > -(2**31):\n",
    "            return a\n",
    "        else:\n",
    "            return 0"
   ]
  },
  {
   "cell_type": "markdown",
   "metadata": {},
   "source": [
    "# [Question](https://leetcode.com/problems/regular-expression-matching/) Regular Expression Matching\n",
    "\n",
    "#Python - leetcode (hard)"
   ]
  },
  {
   "cell_type": "code",
   "execution_count": null,
   "metadata": {},
   "outputs": [],
   "source": [
    "class Solution:\n",
    "     def isMatch(self, s: str, p: str) -> bool:\n",
    "        s, p = ' '+ s, ' '+ p\n",
    "        lenS, lenP = len(s), len(p)\n",
    "        dp = [[0]*(lenP) for i in range(lenS)]\n",
    "        dp[0][0] = 1\n",
    "\n",
    "        for j in range(1, lenP):\n",
    "            if p[j] == '*':\n",
    "                dp[0][j] = dp[0][j-2]\n",
    "\n",
    "        for i in range(1, lenS):\n",
    "            for j in range(1, lenP):\n",
    "                if p[j] in {s[i], '.'}:\n",
    "                    dp[i][j] = dp[i-1][j-1]\n",
    "                elif p[j] == \"*\":\n",
    "                    dp[i][j] = dp[i][j-2] or int(dp[i-1][j] and p[j-1] in {s[i], '.'})\n",
    "\n",
    "        return bool(dp[-1][-1])"
   ]
  },
  {
   "cell_type": "code",
   "execution_count": null,
   "metadata": {},
   "outputs": [],
   "source": []
  },
  {
   "cell_type": "code",
   "execution_count": null,
   "metadata": {},
   "outputs": [],
   "source": []
  },
  {
   "cell_type": "code",
   "execution_count": null,
   "metadata": {},
   "outputs": [],
   "source": []
  }
 ],
 "metadata": {
  "kernelspec": {
   "display_name": "Python 3.10.6 64-bit",
   "language": "python",
   "name": "python3"
  },
  "language_info": {
   "codemirror_mode": {
    "name": "ipython",
    "version": 3
   },
   "file_extension": ".py",
   "mimetype": "text/x-python",
   "name": "python",
   "nbconvert_exporter": "python",
   "pygments_lexer": "ipython3",
   "version": "3.10.6"
  },
  "orig_nbformat": 4,
  "vscode": {
   "interpreter": {
    "hash": "aee8b7b246df8f9039afb4144a1f6fd8d2ca17a180786b69acc140d282b71a49"
   }
  }
 },
 "nbformat": 4,
 "nbformat_minor": 2
}
