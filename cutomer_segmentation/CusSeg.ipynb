{
 "cells": [
  {
   "cell_type": "code",
   "execution_count": null,
   "metadata": {},
   "outputs": [],
   "source": [
    "import pyodbc as db\n",
    "import pandas as pd\n",
    "import numpy as np\n",
    "import matplotlib.pyplot as plt\n",
    "import seaborn as sns\n",
    "from sklearn.cluster import KMeans\n",
    "from mpl_toolkits.mplot3d import Axes3D\n",
    "%matplotlib inline"
   ]
  },
  {
   "cell_type": "code",
   "execution_count": null,
   "metadata": {},
   "outputs": [],
   "source": [
    "#use this script when DB updated\n",
    "conn = db.connect('Driver={SQL Server};'\n",
    "\n",
    "'Server=yourserver;'\n",
    "\n",
    "'Database=your db;'\n",
    "\n",
    "'Trusted_Connection=yes;')\n",
    "\n",
    "\n",
    "query = \"\"\"your query\"\"\"\n",
    "# instead of query you can use any other data\n",
    "\n",
    "cursor = conn.cursor()\n",
    "\n",
    "maindata = pd.read_sql_query(query,conn)\n",
    "\n",
    "conn.close()\n",
    "\n",
    "maindata.to_csv('tb_customer_alltime', index=False)"
   ]
  },
  {
   "cell_type": "code",
   "execution_count": null,
   "metadata": {},
   "outputs": [],
   "source": [
    "data = pd.read_csv('tb_customer')"
   ]
  },
  {
   "cell_type": "code",
   "execution_count": null,
   "metadata": {},
   "outputs": [],
   "source": [
    "data.head()"
   ]
  },
  {
   "cell_type": "code",
   "execution_count": null,
   "metadata": {},
   "outputs": [],
   "source": [
    "# Check NaN values\n",
    "data.isna().sum()"
   ]
  },
  {
   "cell_type": "code",
   "execution_count": null,
   "metadata": {},
   "outputs": [],
   "source": [
    "# Filling NaN Alisveris_Toplami_12M values with constatnt (0)\n",
    "data['Alisveris_Toplami_12M'].fillna(0, inplace=True)"
   ]
  },
  {
   "cell_type": "code",
   "execution_count": null,
   "metadata": {},
   "outputs": [],
   "source": [
    "data.isna().sum()"
   ]
  },
  {
   "cell_type": "code",
   "execution_count": null,
   "metadata": {},
   "outputs": [],
   "source": [
    "# Data distrubution overview\n",
    "plt.figure(figsize=(20,12))\n",
    "sns.set(style = 'whitegrid')\n",
    "sns.displot(data['Alisveris_Toplami_12M'])\n",
    "plt.title('Distrubution of Alisveris_Toplami_12M', fontsize=24)\n",
    "plt.xlabel('Range of Alisveris_Toplami_12M')\n",
    "plt.ylabel('Count')\n",
    "plt.show()"
   ]
  },
  {
   "cell_type": "code",
   "execution_count": null,
   "metadata": {},
   "outputs": [],
   "source": [
    "# Focus Data\n",
    "X=data[['Alisveris_Toplami_12M']]\n",
    "X"
   ]
  },
  {
   "cell_type": "code",
   "execution_count": null,
   "metadata": {},
   "outputs": [],
   "source": [
    "# Find the wcss values\n",
    "wcss = []\n",
    "for i in range(1,15):\n",
    "    print(i)\n",
    "    km=KMeans(n_clusters=i,init= 'k-means++', random_state=42)\n",
    "    km.fit(X)\n",
    "    wcss.append(km.inertia_)"
   ]
  },
  {
   "cell_type": "code",
   "execution_count": null,
   "metadata": {},
   "outputs": [],
   "source": [
    "#Elbow curve\n",
    "plt.figure(figsize=(10,6))\n",
    "plt.plot(range(1,15),wcss)\n",
    "plt.plot(range(1,15),wcss,linewidth=2,color='red',marker='8')\n",
    "plt.xlabel('K Value')\n",
    "plt.xticks(np.arange(1,15,1))\n",
    "plt.ylabel('WCSS')\n",
    "plt.show()"
   ]
  },
  {
   "cell_type": "code",
   "execution_count": null,
   "metadata": {},
   "outputs": [],
   "source": [
    "km1 = KMeans(n_clusters=10)\n",
    "km1.fit(X)\n",
    "y=km1.predict(X)\n",
    "data['target']=y\n",
    "data.head()"
   ]
  },
  {
   "cell_type": "code",
   "execution_count": null,
   "metadata": {},
   "outputs": [],
   "source": [
    "plt.figure(figsize=(20,12))\n",
    "sns.scatterplot(x='master_id', y='Alisveris_Toplami_12M', hue='target', palette=['orange','red','yellow','green','blue','brown','black','dodgerblue','cyan','magenta'], legend='full', data=data, s=60)\n",
    "plt.xlabel('master_id')\n",
    "plt.ylabel('Alisveris_Toplami_12M')\n",
    "plt.title('Target Distribution')\n",
    "plt.show()"
   ]
  },
  {
   "cell_type": "code",
   "execution_count": null,
   "metadata": {},
   "outputs": [],
   "source": []
  }
 ],
 "metadata": {
  "kernelspec": {
   "display_name": "Python 3.8.8 ('base')",
   "language": "python",
   "name": "python3"
  },
  "language_info": {
   "codemirror_mode": {
    "name": "ipython",
    "version": 3
   },
   "file_extension": ".py",
   "mimetype": "text/x-python",
   "name": "python",
   "nbconvert_exporter": "python",
   "pygments_lexer": "ipython3",
   "version": "3.8.8"
  },
  "orig_nbformat": 4,
  "vscode": {
   "interpreter": {
    "hash": "40d3a090f54c6569ab1632332b64b2c03c39dcf918b08424e98f38b5ae0af88f"
   }
  }
 },
 "nbformat": 4,
 "nbformat_minor": 2
}
